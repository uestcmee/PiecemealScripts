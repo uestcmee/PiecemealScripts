{
 "cells": [
  {
   "cell_type": "code",
   "execution_count": 11,
   "metadata": {},
   "outputs": [],
   "source": [
    "\n",
    "\n",
    "import pdfplumber"
   ]
  },
  {
   "cell_type": "code",
   "execution_count": 18,
   "metadata": {},
   "outputs": [
    {
     "name": "stdout",
     "output_type": "stream",
     "text": [
      "{'fontname': 'ArialMT', 'adv': Decimal('2.502'), 'upright': True, 'x0': Decimal('36.840'), 'y0': Decimal('817.470'), 'x1': Decimal('39.342'), 'y1': Decimal('826.470'), 'width': Decimal('2.502'), 'height': Decimal('9.000'), 'size': Decimal('9.000'), 'object_type': 'char', 'page_number': 1, 'stroking_color': 0, 'non_stroking_color': 0, 'text': ' ', 'top': Decimal('15.450'), 'bottom': Decimal('24.450'), 'doctop': Decimal('15.450')}\n"
     ]
    }
   ],
   "source": [
    "with pdfplumber.open(\"bond.pdf\") as pdf:\n",
    "    first_page = pdf.pages[0]\n",
    "    print(first_page.chars[0])"
   ]
  },
  {
   "cell_type": "code",
   "execution_count": 19,
   "metadata": {},
   "outputs": [
    {
     "data": {
      "text/plain": [
       "[{'x0': Decimal('36.369'),\n",
       "  'y0': Decimal('733.466'),\n",
       "  'x1': Decimal('422.400'),\n",
       "  'y1': Decimal('784.968'),\n",
       "  'width': Decimal('386.032'),\n",
       "  'height': Decimal('51.502'),\n",
       "  'name': 'Image8',\n",
       "  'stream': <PDFStream(8): raw=5373, {'Type': /'XObject', 'Subtype': /'Image', 'Width': 1072, 'Height': 143, 'ColorSpace': /'DeviceRGB', 'BitsPerComponent': 8, 'Filter': /'DCTDecode', 'Interpolate': True, 'Length': 5371}>,\n",
       "  'srcsize': (Decimal('1072'), Decimal('143')),\n",
       "  'imagemask': None,\n",
       "  'bits': 8,\n",
       "  'colorspace': [/'DeviceRGB'],\n",
       "  'object_type': 'image',\n",
       "  'page_number': 1,\n",
       "  'top': Decimal('56.952'),\n",
       "  'bottom': Decimal('108.454'),\n",
       "  'doctop': Decimal('56.952')},\n",
       " {'x0': Decimal('456.000'),\n",
       "  'y0': Decimal('787.920'),\n",
       "  'x1': Decimal('557.400'),\n",
       "  'y1': Decimal('813.420'),\n",
       "  'width': Decimal('101.400'),\n",
       "  'height': Decimal('25.500'),\n",
       "  'name': 'Image19',\n",
       "  'stream': <PDFStream(19): raw=4019, {'Type': /'XObject', 'Subtype': /'Image', 'Width': 281, 'Height': 70, 'ColorSpace': /'DeviceRGB', 'BitsPerComponent': 8, 'Interpolate': False, 'SMask': <PDFObjRef:20>, 'Filter': /'FlateDecode', 'Length': 4017}>,\n",
       "  'srcsize': (Decimal('281'), Decimal('70')),\n",
       "  'imagemask': None,\n",
       "  'bits': 8,\n",
       "  'colorspace': [/'DeviceRGB'],\n",
       "  'object_type': 'image',\n",
       "  'page_number': 1,\n",
       "  'top': Decimal('28.500'),\n",
       "  'bottom': Decimal('54.000'),\n",
       "  'doctop': Decimal('28.500')}]"
      ]
     },
     "execution_count": 19,
     "metadata": {},
     "output_type": "execute_result"
    }
   ],
   "source": [
    "first_page.images"
   ]
  },
  {
   "cell_type": "code",
   "execution_count": 25,
   "metadata": {},
   "outputs": [
    {
     "data": {
      "text/plain": [
       "' \\n \\n证券研究报告 \\n固定收益研究/年度策略 \\n2020年11月15日   \\n \\n     在短期逆风中迎接中期转机 \\n张继强  SAC No. S0570518110002 \\n研究员  SFC No. AMB145 \\n \\nzhangjiqiang@htsc.com  2021 年宏观利率展望\\n芦哲  SAC No. S0570518120004 \\n研究员  luzhe@htsc.com  2021年利率债展望：在短期逆风中迎接中期转机 \\n张亮  SAC No. S0570518110005  2020 年疫情是主线，经济从休克到修复、货币政策由松转中性、利率债供\\n研究员  021-28972035  给是核心因素。2021 年，顺周期力量接棒推动经济修复是主背景，资金面\\nzhangliang014597@htsc.com \\n“不缺不溢”，利率供求有所好转，债市在短期逆风中孕育中期转机。社融、\\n王菀婷  SAC No. S0570520020001 \\n经济、通胀数据等指向债市机会尚需等待，而经济见顶回落、信用收缩显现、\\n研究员  021-38476079 \\n美国大选后政策及外资力量等可能成为转机触发剂，等待存单“锚”切换到\\n  wangwanting014808@htsc.com \\n  资金“锚”。2021年债市表现可能重演2019年走势，波动空间有限，一季\\n度末到二季度是转机敏感时点，全年十年期国债或在3%-3.4%区间运行。 \\n相关研究 \\n   \\n  经济增长：顺周期力量接棒 \\n1《固定收益研究: 票息为盾，精选为矛》2019.11 \\n2020年疫情的休克效应导致世界经济陷入严重衰退，得益于疫情控制效率\\n2《固定收益研究: 全局着眼，个券着力》2019.11 \\n 3《固定收益研究: 滞胀表象，枕戈待旦》2019.11  与逆周期政策有效对冲，中国仍将实现正增长。展望明年，经济继续修复\\n的动能不弱，出口有望维持韧性、消费和制造业存在修复空间，同时逆周\\n \\n期政策也将有序退出，预计财政回归正常化、房地产去金融化一以贯之，\\n经济主线向顺周期力量切换。明年GDP同比将在低基数上迎反弹，季调后\\n环比或呈先强后弱态势，伴随经济修复，明年上半年也将进入温和再通胀\\n阶段。而海外疫情发展与财政刺激、国内地产韧性与政策态度将是影响经\\n济演绎路径的重要因素。 \\n \\n货币政策与流动性：“不缺不溢” \\n从“勇于担当”到“功成身退”，货币政策危机应对模式已结束。展望明年，\\n经济延续修复、通胀温和抬升、人民币汇率升值的状态之下货币政策处于\\n相对舒适区间。双支柱框架的强化使得单靠紧货币政策倒逼去杠杆的压力\\n在降低。后疫时代政策退出是方向，但节奏相机抉择，加息和升准概率都\\n不大，再贷款等逐步退出，降准替换MLF是中性政策。存单利率接近顶部，\\n明年一二季度定价逻辑或将切换至回购利率。银行间流动性“不缺不溢”，\\n关注信用分层，实体流动性受制于信用扩张放缓，股市则需关注宏观流动\\n性及解禁压力。 \\n \\n供求分析：边际改善 \\n供给方面，财政政策正常化，预计明年赤字率回归3.0%，特别国债和地方\\n专项债也可能缩量，预计明年政府债券净供给规模下降至6.61万亿，结构\\n上超长期限地方债供给规模将下降。需求方面，大行资产扩张预计仍不弱，\\n中小行有缩表压力；外资对中国债券仍有增持空间；保险机构保费增长将\\n修复，“开门红”对超长利率债有较好需求；理财是最大的不稳定因素，一\\n是面临资管新规整改压力，二是现金管理类理财管理办法出台制约中长久\\n期债需求。单纯从供求因素看，整体上明年利率债需求好于信用债。 \\n \\n债市研判：可能重演2019年 \\n当前的利率回到19年四季度高点，对基本面和货币政策不利变化已经有所\\n反应。从社融增速、经济增长和通胀走势看，转机仍需要时间。但上述利\\n空因素已基本price in，货币政策不会重演13、17年倒逼去杠杆一幕，利\\n率供求有好转，超调风险不大。可能的超预期因素在于：信用收缩程度、\\n通胀水平、中美关系、理财整改进程等。等待市场的定价锚从存单转为资\\n金面，届时曲线可能陡峭化，息差交易回归。明年利率债运行可能接近2019\\n年，波动空间较小，我们预计十年期国债向下 3.0%、向上 3.4%，曲线先\\n平后陡。信用面临低利差难题，转债转为平淡，善用衍生品增厚收益。 \\n \\n风险提示：通胀担忧超预期；信用违约风险向流动性风险传导；“拜登交易”\\n超预期。 \\n免责声明和披露以及分析师声明是报告的一部分，请务必一起阅读。  1 '"
      ]
     },
     "execution_count": 25,
     "metadata": {},
     "output_type": "execute_result"
    }
   ],
   "source": [
    "first_page.extract_text()"
   ]
  },
  {
   "cell_type": "code",
   "execution_count": 30,
   "metadata": {},
   "outputs": [
    {
     "data": {
      "text/plain": [
       "{'x0': Decimal('37.050'),\n",
       " 'y0': Decimal('570.670'),\n",
       " 'x1': Decimal('211.650'),\n",
       " 'y1': Decimal('587.120'),\n",
       " 'width': Decimal('174.600'),\n",
       " 'height': Decimal('16.450'),\n",
       " 'pts': [(Decimal('37.050'), Decimal('570.670')),\n",
       "  (Decimal('211.650'), Decimal('570.670')),\n",
       "  (Decimal('211.650'), Decimal('587.120')),\n",
       "  (Decimal('37.050'), Decimal('587.120'))],\n",
       " 'linewidth': Decimal('0'),\n",
       " 'stroke': False,\n",
       " 'fill': True,\n",
       " 'evenodd': True,\n",
       " 'stroking_color': 0,\n",
       " 'non_stroking_color': [/'P27'],\n",
       " 'object_type': 'rect',\n",
       " 'page_number': 1,\n",
       " 'top': Decimal('254.800'),\n",
       " 'bottom': Decimal('271.250'),\n",
       " 'doctop': Decimal('254.800')}"
      ]
     },
     "execution_count": 30,
     "metadata": {},
     "output_type": "execute_result"
    }
   ],
   "source": [
    "first_page.rects[1]"
   ]
  },
  {
   "cell_type": "code",
   "execution_count": 32,
   "metadata": {},
   "outputs": [
    {
     "ename": "ImportError",
     "evalue": "MagickWand shared library not found.\nYou probably had not installed ImageMagick library.\nTry to install:\n  https://docs.wand-py.org/en/latest/guide/install.html#install-imagemagick-on-windows",
     "output_type": "error",
     "traceback": [
      "\u001b[1;31m---------------------------------------------------------------------------\u001b[0m",
      "\u001b[1;31mOSError\u001b[0m                                   Traceback (most recent call last)",
      "\u001b[1;32m~\\anaconda3\\lib\\site-packages\\wand\\api.py\u001b[0m in \u001b[0;36m<module>\u001b[1;34m\u001b[0m\n\u001b[0;32m    150\u001b[0m \u001b[1;32mtry\u001b[0m\u001b[1;33m:\u001b[0m\u001b[1;33m\u001b[0m\u001b[1;33m\u001b[0m\u001b[0m\n\u001b[1;32m--> 151\u001b[1;33m     \u001b[0mlibraries\u001b[0m \u001b[1;33m=\u001b[0m \u001b[0mload_library\u001b[0m\u001b[1;33m(\u001b[0m\u001b[1;33m)\u001b[0m\u001b[1;33m\u001b[0m\u001b[1;33m\u001b[0m\u001b[0m\n\u001b[0m\u001b[0;32m    152\u001b[0m \u001b[1;32mexcept\u001b[0m \u001b[1;33m(\u001b[0m\u001b[0mOSError\u001b[0m\u001b[1;33m,\u001b[0m \u001b[0mIOError\u001b[0m\u001b[1;33m)\u001b[0m\u001b[1;33m:\u001b[0m\u001b[1;33m\u001b[0m\u001b[1;33m\u001b[0m\u001b[0m\n",
      "\u001b[1;32m~\\anaconda3\\lib\\site-packages\\wand\\api.py\u001b[0m in \u001b[0;36mload_library\u001b[1;34m()\u001b[0m\n\u001b[0;32m    139\u001b[0m         \u001b[1;32mreturn\u001b[0m \u001b[0mlibwand\u001b[0m\u001b[1;33m,\u001b[0m \u001b[0mlibmagick\u001b[0m\u001b[1;33m\u001b[0m\u001b[1;33m\u001b[0m\u001b[0m\n\u001b[1;32m--> 140\u001b[1;33m     \u001b[1;32mraise\u001b[0m \u001b[0mIOError\u001b[0m\u001b[1;33m(\u001b[0m\u001b[1;34m'cannot find library; tried paths: '\u001b[0m \u001b[1;33m+\u001b[0m \u001b[0mrepr\u001b[0m\u001b[1;33m(\u001b[0m\u001b[0mtried_paths\u001b[0m\u001b[1;33m)\u001b[0m\u001b[1;33m)\u001b[0m\u001b[1;33m\u001b[0m\u001b[1;33m\u001b[0m\u001b[0m\n\u001b[0m\u001b[0;32m    141\u001b[0m \u001b[1;33m\u001b[0m\u001b[0m\n",
      "\u001b[1;31mOSError\u001b[0m: cannot find library; tried paths: []",
      "\nDuring handling of the above exception, another exception occurred:\n",
      "\u001b[1;31mImportError\u001b[0m                               Traceback (most recent call last)",
      "\u001b[1;32m<ipython-input-32-9d0dc80b0590>\u001b[0m in \u001b[0;36m<module>\u001b[1;34m\u001b[0m\n\u001b[1;32m----> 1\u001b[1;33m \u001b[0mfirst_page\u001b[0m\u001b[1;33m.\u001b[0m\u001b[0mto_image\u001b[0m\u001b[1;33m(\u001b[0m\u001b[1;33m)\u001b[0m\u001b[1;33m\u001b[0m\u001b[1;33m\u001b[0m\u001b[0m\n\u001b[0m",
      "\u001b[1;32m~\\anaconda3\\lib\\site-packages\\pdfplumber\\page.py\u001b[0m in \u001b[0;36mto_image\u001b[1;34m(self, **conversion_kwargs)\u001b[0m\n\u001b[0;32m    280\u001b[0m         \u001b[0mhttp\u001b[0m\u001b[1;33m:\u001b[0m\u001b[1;33m//\u001b[0m\u001b[0mdocs\u001b[0m\u001b[1;33m.\u001b[0m\u001b[0mwand\u001b[0m\u001b[1;33m-\u001b[0m\u001b[0mpy\u001b[0m\u001b[1;33m.\u001b[0m\u001b[0morg\u001b[0m\u001b[1;33m/\u001b[0m\u001b[0men\u001b[0m\u001b[1;33m/\u001b[0m\u001b[0mlatest\u001b[0m\u001b[1;33m/\u001b[0m\u001b[0mwand\u001b[0m\u001b[1;33m/\u001b[0m\u001b[0mimage\u001b[0m\u001b[1;33m.\u001b[0m\u001b[0mhtml\u001b[0m\u001b[1;31m#wand.image.Image\u001b[0m\u001b[1;33m\u001b[0m\u001b[1;33m\u001b[0m\u001b[0m\n\u001b[0;32m    281\u001b[0m         \"\"\"\n\u001b[1;32m--> 282\u001b[1;33m         \u001b[1;32mfrom\u001b[0m \u001b[1;33m.\u001b[0m\u001b[0mdisplay\u001b[0m \u001b[1;32mimport\u001b[0m \u001b[0mPageImage\u001b[0m\u001b[1;33m,\u001b[0m \u001b[0mDEFAULT_RESOLUTION\u001b[0m\u001b[1;33m\u001b[0m\u001b[1;33m\u001b[0m\u001b[0m\n\u001b[0m\u001b[0;32m    283\u001b[0m \u001b[1;33m\u001b[0m\u001b[0m\n\u001b[0;32m    284\u001b[0m         \u001b[0mkwargs\u001b[0m \u001b[1;33m=\u001b[0m \u001b[0mdict\u001b[0m\u001b[1;33m(\u001b[0m\u001b[0mconversion_kwargs\u001b[0m\u001b[1;33m)\u001b[0m\u001b[1;33m\u001b[0m\u001b[1;33m\u001b[0m\u001b[0m\n",
      "\u001b[1;32m~\\anaconda3\\lib\\site-packages\\pdfplumber\\display.py\u001b[0m in \u001b[0;36m<module>\u001b[1;34m\u001b[0m\n\u001b[0;32m      4\u001b[0m \u001b[1;32mimport\u001b[0m \u001b[0mPIL\u001b[0m\u001b[1;33m.\u001b[0m\u001b[0mImage\u001b[0m\u001b[1;33m\u001b[0m\u001b[1;33m\u001b[0m\u001b[0m\n\u001b[0;32m      5\u001b[0m \u001b[1;32mimport\u001b[0m \u001b[0mPIL\u001b[0m\u001b[1;33m.\u001b[0m\u001b[0mImageDraw\u001b[0m\u001b[1;33m\u001b[0m\u001b[1;33m\u001b[0m\u001b[0m\n\u001b[1;32m----> 6\u001b[1;33m \u001b[1;32mimport\u001b[0m \u001b[0mwand\u001b[0m\u001b[1;33m.\u001b[0m\u001b[0mimage\u001b[0m\u001b[1;33m\u001b[0m\u001b[1;33m\u001b[0m\u001b[0m\n\u001b[0m\u001b[0;32m      7\u001b[0m \u001b[1;32mfrom\u001b[0m \u001b[0mio\u001b[0m \u001b[1;32mimport\u001b[0m \u001b[0mBytesIO\u001b[0m\u001b[1;33m\u001b[0m\u001b[1;33m\u001b[0m\u001b[0m\n\u001b[0;32m      8\u001b[0m \u001b[1;33m\u001b[0m\u001b[0m\n",
      "\u001b[1;32m~\\anaconda3\\lib\\site-packages\\wand\\image.py\u001b[0m in \u001b[0;36m<module>\u001b[1;34m\u001b[0m\n\u001b[0;32m     16\u001b[0m \u001b[1;32mimport\u001b[0m \u001b[0mweakref\u001b[0m\u001b[1;33m\u001b[0m\u001b[1;33m\u001b[0m\u001b[0m\n\u001b[0;32m     17\u001b[0m \u001b[1;33m\u001b[0m\u001b[0m\n\u001b[1;32m---> 18\u001b[1;33m \u001b[1;32mfrom\u001b[0m \u001b[1;33m.\u001b[0m \u001b[1;32mimport\u001b[0m \u001b[0massertions\u001b[0m\u001b[1;33m\u001b[0m\u001b[1;33m\u001b[0m\u001b[0m\n\u001b[0m\u001b[0;32m     19\u001b[0m \u001b[1;32mfrom\u001b[0m \u001b[1;33m.\u001b[0m\u001b[0mapi\u001b[0m \u001b[1;32mimport\u001b[0m \u001b[0mlibc\u001b[0m\u001b[1;33m,\u001b[0m \u001b[0mlibmagick\u001b[0m\u001b[1;33m,\u001b[0m \u001b[0mlibrary\u001b[0m\u001b[1;33m\u001b[0m\u001b[1;33m\u001b[0m\u001b[0m\n\u001b[0;32m     20\u001b[0m \u001b[1;32mfrom\u001b[0m \u001b[1;33m.\u001b[0m\u001b[0mcolor\u001b[0m \u001b[1;32mimport\u001b[0m \u001b[0mColor\u001b[0m\u001b[1;33m\u001b[0m\u001b[1;33m\u001b[0m\u001b[0m\n",
      "\u001b[1;32m~\\anaconda3\\lib\\site-packages\\wand\\assertions.py\u001b[0m in \u001b[0;36m<module>\u001b[1;34m\u001b[0m\n\u001b[0;32m    153\u001b[0m \u001b[1;33m\u001b[0m\u001b[0m\n\u001b[0;32m    154\u001b[0m \u001b[1;31m# Lazy load recursive import\u001b[0m\u001b[1;33m\u001b[0m\u001b[1;33m\u001b[0m\u001b[1;33m\u001b[0m\u001b[0m\n\u001b[1;32m--> 155\u001b[1;33m \u001b[1;32mfrom\u001b[0m \u001b[1;33m.\u001b[0m\u001b[0mcolor\u001b[0m \u001b[1;32mimport\u001b[0m \u001b[0mColor\u001b[0m  \u001b[1;31m# noqa: E402\u001b[0m\u001b[1;33m\u001b[0m\u001b[1;33m\u001b[0m\u001b[0m\n\u001b[0m",
      "\u001b[1;32m~\\anaconda3\\lib\\site-packages\\wand\\color.py\u001b[0m in \u001b[0;36m<module>\u001b[1;34m\u001b[0m\n\u001b[0;32m      8\u001b[0m \u001b[1;32mimport\u001b[0m \u001b[0mnumbers\u001b[0m\u001b[1;33m\u001b[0m\u001b[1;33m\u001b[0m\u001b[0m\n\u001b[0;32m      9\u001b[0m \u001b[1;33m\u001b[0m\u001b[0m\n\u001b[1;32m---> 10\u001b[1;33m \u001b[1;32mfrom\u001b[0m \u001b[1;33m.\u001b[0m\u001b[0mapi\u001b[0m \u001b[1;32mimport\u001b[0m \u001b[0mlibrary\u001b[0m\u001b[1;33m\u001b[0m\u001b[1;33m\u001b[0m\u001b[0m\n\u001b[0m\u001b[0;32m     11\u001b[0m \u001b[1;32mfrom\u001b[0m \u001b[1;33m.\u001b[0m\u001b[0mcdefs\u001b[0m\u001b[1;33m.\u001b[0m\u001b[0mstructures\u001b[0m \u001b[1;32mimport\u001b[0m \u001b[0mMagickPixelPacket\u001b[0m\u001b[1;33m,\u001b[0m \u001b[0mPixelInfo\u001b[0m\u001b[1;33m\u001b[0m\u001b[1;33m\u001b[0m\u001b[0m\n\u001b[0;32m     12\u001b[0m \u001b[1;32mfrom\u001b[0m \u001b[1;33m.\u001b[0m\u001b[0mcompat\u001b[0m \u001b[1;32mimport\u001b[0m \u001b[0mbinary\u001b[0m\u001b[1;33m,\u001b[0m \u001b[0mtext\u001b[0m\u001b[1;33m\u001b[0m\u001b[1;33m\u001b[0m\u001b[0m\n",
      "\u001b[1;32m~\\anaconda3\\lib\\site-packages\\wand\\api.py\u001b[0m in \u001b[0;36m<module>\u001b[1;34m\u001b[0m\n\u001b[0;32m    175\u001b[0m     raise ImportError('MagickWand shared library not found.\\n'\n\u001b[0;32m    176\u001b[0m                       \u001b[1;34m'You probably had not installed ImageMagick library.\\n'\u001b[0m\u001b[1;33m\u001b[0m\u001b[1;33m\u001b[0m\u001b[0m\n\u001b[1;32m--> 177\u001b[1;33m                       'Try to install:\\n  ' + msg)\n\u001b[0m\u001b[0;32m    178\u001b[0m \u001b[1;33m\u001b[0m\u001b[0m\n\u001b[0;32m    179\u001b[0m \u001b[1;31m#: (:class:`ctypes.CDLL`) The MagickWand library.\u001b[0m\u001b[1;33m\u001b[0m\u001b[1;33m\u001b[0m\u001b[1;33m\u001b[0m\u001b[0m\n",
      "\u001b[1;31mImportError\u001b[0m: MagickWand shared library not found.\nYou probably had not installed ImageMagick library.\nTry to install:\n  https://docs.wand-py.org/en/latest/guide/install.html#install-imagemagick-on-windows"
     ]
    }
   ],
   "source": [
    "first_page.to_image()"
   ]
  },
  {
   "cell_type": "code",
   "execution_count": null,
   "metadata": {},
   "outputs": [],
   "source": []
  }
 ],
 "metadata": {
  "kernelspec": {
   "display_name": "Python 3",
   "language": "python",
   "name": "python3"
  },
  "language_info": {
   "codemirror_mode": {
    "name": "ipython",
    "version": 3
   },
   "file_extension": ".py",
   "mimetype": "text/x-python",
   "name": "python",
   "nbconvert_exporter": "python",
   "pygments_lexer": "ipython3",
   "version": "3.7.6"
  }
 },
 "nbformat": 4,
 "nbformat_minor": 4
}
